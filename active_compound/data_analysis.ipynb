{
 "cells": [
  {
   "cell_type": "code",
   "execution_count": 1,
   "metadata": {},
   "outputs": [],
   "source": [
    "import pandas as pd"
   ]
  },
  {
   "cell_type": "code",
   "execution_count": 5,
   "metadata": {},
   "outputs": [],
   "source": [
    "df = pd.read_csv('rekap_all.csv', index_col=0)"
   ]
  },
  {
   "cell_type": "code",
   "execution_count": 27,
   "metadata": {},
   "outputs": [
    {
     "data": {
      "text/plain": [
       "12"
      ]
     },
     "execution_count": 27,
     "metadata": {},
     "output_type": "execute_result"
    }
   ],
   "source": [
    "x = df['species'].value_counts()"
   ]
  },
  {
   "cell_type": "code",
   "execution_count": 34,
   "metadata": {},
   "outputs": [
    {
     "data": {
      "text/plain": [
       "<matplotlib.axes._subplots.AxesSubplot at 0x7f6668d69278>"
      ]
     },
     "execution_count": 34,
     "metadata": {},
     "output_type": "execute_result"
    },
    {
     "data": {
      "image/png": "[encoded data removed]",
      "text/plain": [
       "<Figure size 432x288 with 1 Axes>"
      ]
     },
     "metadata": {
      "needs_background": "light"
     },
     "output_type": "display_data"
    }
   ],
   "source": [
    "import matplotlib.pyplot as plt\n",
    "x[0:15].plot.barh()"
   ]
  },
  {
   "cell_type": "code",
   "execution_count": 14,
   "metadata": {},
   "outputs": [
    {
     "data": {
      "text/plain": [
       "-                                                                                                                               7\n",
       "https://onlinelibrary.wiley.com/doi/pdf/10.1211/jpp.61.11.0001                                                                  2\n",
       "DOI :10.1080/14786419.2017.1396595                                                                                              2\n",
       "https://www.researchgate.net/publication/323192039_Medicinal_values_of_aquatic_plant_genus_Nymphoides_grown_in_Asia_A_review    1\n",
       "http://www.indianjournals.com/ijor.aspx?target=ijor:mpijpri&volume=2&issue=2&article=012                                        1\n",
       "Name: Referensi  Antimalaria/Antiplasmodium, dtype: int64"
      ]
     },
     "execution_count": 14,
     "metadata": {},
     "output_type": "execute_result"
    }
   ],
   "source": [
    "df['Referensi  Antimalaria/Antiplasmodium'].value_counts()"
   ]
  },
  {
   "cell_type": "code",
   "execution_count": 15,
   "metadata": {},
   "outputs": [
    {
     "data": {
      "text/plain": [
       "-                                                                                                                                                                 6\n",
       "https://www.tandfonline.com/doi/pdf/10.1080/10496475.2011.605514                                                                                                  4\n",
       "https://www.researchgate.net/publication/259605433_4-Quinolone_Alkaloids_from_Melochia_odorata                                                                    2\n",
       "https://www.ncbi.nlm.nih.gov/pmc/articles/PMC4728566/                                                                                                             1\n",
       "DOI: 10.1080/14786419.2019.1644505                                                                                                                                1\n",
       "https://www.researchgate.net/publication/337081404_Potential_of_stigmasterol_from_EtOAc_extract_Melochia_umbellata_Houtt_Stapf_var_Visenia_as_Dengue_Antivirus    1\n",
       "https://iopscience.iop.org/article/10.1088/1742-6596/979/1/012017/pdf                                                                                             1\n",
       "CC(=CCCC(C)(C=C)O)C                                                                                                                                               1\n",
       "Name: Referensi  Antivirus, dtype: int64"
      ]
     },
     "execution_count": 15,
     "metadata": {},
     "output_type": "execute_result"
    }
   ],
   "source": [
    "df['Referensi  Antivirus'].value_counts()"
   ]
  },
  {
   "cell_type": "code",
   "execution_count": 16,
   "metadata": {},
   "outputs": [
    {
     "data": {
      "text/plain": [
       "-    7\n",
       "Name: Referensi  Treatment Meningitis, dtype: int64"
      ]
     },
     "execution_count": 16,
     "metadata": {},
     "output_type": "execute_result"
    }
   ],
   "source": [
    "df['Referensi  Treatment Meningitis'].value_counts()"
   ]
  },
  {
   "cell_type": "code",
   "execution_count": null,
   "metadata": {},
   "outputs": [],
   "source": []
  }
 ],
 "metadata": {
  "kernelspec": {
   "display_name": "Python 3",
   "language": "python",
   "name": "python3"
  },
  "language_info": {
   "codemirror_mode": {
    "name": "ipython",
    "version": 3
   },
   "file_extension": ".py",
   "mimetype": "text/x-python",
   "name": "python",
   "nbconvert_exporter": "python",
   "pygments_lexer": "ipython3",
   "version": "3.6.10"
  }
 },
 "nbformat": 4,
 "nbformat_minor": 4
}
