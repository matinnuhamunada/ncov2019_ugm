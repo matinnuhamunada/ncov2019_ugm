{
 "cells": [
  {
   "cell_type": "markdown",
   "metadata": {},
   "source": [
    "# Analisis _genomic epidemiology_ dengan menggunakan Nextstrain\n",
    "\n",
    "---\n",
    "\n",
    "_oleh: Matin Nuhamunada, M.Sc._\n",
    "\n",
    "Department of Tropical Biology, Universitas Gadjah Mada;   \n",
    "Jl. Teknika Selatan, Sekip Utara, Bulaksumur, Yogyakarta, Indonesia, 55281;   \n",
    "\n",
    "email: [matin_nuhamunada@ugm.ac.id](mailto:matin_nuhamunada@mail.ugm.ac.id)  \n",
    "\n",
    "---\n",
    "#### Notebook Links\n",
    "* 1. [Sub-sampling data genome SARS-CoV-2](01_sub-sampling.ipynb) \n",
    "* 2. [Analisis _genomic epidemiology_ dengan menggunakan Nextstrain](02_analysis.ipynb) (notebook ini)\n",
    "* 3. [Koleksi spike gene per clade](03_clade_s_gene_analysis.ipynb)"
   ]
  },
  {
   "cell_type": "markdown",
   "metadata": {},
   "source": [
    "## Deskripsi\n",
    "Pada notebook ini, dilakukan analisis genomic epidemiology menggunakan platform nextstrain (augur & auspice) sesuai dengan panduan dari: https://github.com/nextstrain/ncov/blob/master/docs/running.md\n",
    "\n",
    "File yang perlu disiapkan:\n",
    "* 1 Dataset dari GISAID:\n",
    "    * data/sequences.fasta\n",
    "    * data/metadata.tsv\n",
    "* 2 Config files dari: https://github.com/nextstrain/ncov/blob/master/config/:\n",
    "    * config/include.txt\n",
    "    * config/reference.gb\n",
    "    * config/clades.tsv\n",
    "    * config/color_schemes.tsv\n",
    "    * config/lat_longs.tsv\n",
    "    * config/auspice_config.json\n",
    "* 3 Hasil sub sampling dari notebook sebelumnya:\n",
    "    * config/exclude_subsampling.txt\n",
    "\n",
    "Berikut gambaran pipeline analisis yang dilakukan:\n",
    "![Pipeline Analisis](https://raw.githubusercontent.com/nextstrain/ncov/master/docs/images/basic_snakemake_build.png)"
   ]
  },
  {
   "cell_type": "code",
   "execution_count": 1,
   "metadata": {},
   "outputs": [],
   "source": [
    "# create result directory\n",
    "! mkdir -p results"
   ]
  },
  {
   "cell_type": "code",
   "execution_count": 2,
   "metadata": {},
   "outputs": [
    {
     "name": "stdout",
     "output_type": "stream",
     "text": [
      "\n",
      "17140 sequences were dropped during filtering\n",
      "\t17130 of these were dropped because they were in config/exclude_subsampling.txt\n",
      "\t0 of these were dropped because of 'date=2020'\n",
      "\t1 of these were dropped because of 'date=2020-01-XX'\n",
      "\t2 of these were dropped because of 'date=2020-02-XX'\n",
      "\t0 of these were dropped because of 'date=2020-03-XX'\n",
      "\t0 of these were dropped because of 'date=2020-04-XX'\n",
      "\t2 of these were dropped because of 'date=2020-01'\n",
      "\t0 of these were dropped because of 'date=2020-02'\n",
      "\t0 of these were dropped because of 'date=2020-03'\n",
      "\t0 of these were dropped because of 'date=2020-04'\n",
      "\t6 of these were dropped because they were shorter than minimum length of 25000bp\n",
      "\t0 of these were dropped because of subsampling criteria\n",
      "\n",
      "\t1 sequences were added back because they were in config/include.txt\n",
      "398 sequences have been written out to results/filtered.fasta\n"
     ]
    }
   ],
   "source": [
    "! augur filter \\\n",
    "--sequences data/sequences.fasta \\\n",
    "--metadata data/metadata.tsv \\\n",
    "--exclude config/exclude_subsampling.txt \\\n",
    "--include config/include.txt \\\n",
    "--output results/filtered.fasta \\\n",
    "--min-length 25000 \\\n",
    "--exclude-where date='2020' date='2020-01-XX' date='2020-02-XX' date='2020-03-XX' date='2020-04-XX' date='2020-01' date='2020-02' date='2020-03' date='2020-04' \\\n",
    "--group-by division year month \\\n",
    "--sequences-per-group 2000"
   ]
  },
  {
   "cell_type": "raw",
   "metadata": {},
   "source": [
    "! python scripts/partition-sequences.py \\\n",
    "--sequences results/filtered.fasta \\\n",
    "--sequences-per-group 150 \\\n",
    "--output-dir results"
   ]
  },
  {
   "cell_type": "code",
   "execution_count": 3,
   "metadata": {},
   "outputs": [
    {
     "name": "stdout",
     "output_type": "stream",
     "text": [
      "\n",
      "using mafft to align via:\n",
      "\tmafft --reorder --anysymbol --nomemsave --adjustdirection --thread 8 results/aligned.fasta.to_align.fasta 1> results/aligned.fasta 2> results/aligned.fasta.log \n",
      "\n",
      "\tKatoh et al, Nucleic Acid Research, vol 30, issue 14\n",
      "\thttps://doi.org/10.1093%2Fnar%2Fgkf436\n",
      "\n",
      "Trimmed gaps in MN908947 from the alignment\n"
     ]
    }
   ],
   "source": [
    "! augur align \\\n",
    "  --sequences results/filtered.fasta \\\n",
    "  --reference-sequence config/reference.gb \\\n",
    "  --output results/aligned.fasta \\\n",
    "  --nthreads auto \\\n",
    "  --fill-gaps"
   ]
  },
  {
   "cell_type": "code",
   "execution_count": 4,
   "metadata": {},
   "outputs": [],
   "source": [
    "! python scripts/mask-alignment.py \\\n",
    "--alignment results/aligned.fasta \\\n",
    "--mask-from-beginning 130 \\\n",
    "--mask-from-end 50 \\\n",
    "--mask-sites 18529 29849 29851 29853 \\\n",
    "--output results/mask_aligned.fasta"
   ]
  },
  {
   "cell_type": "code",
   "execution_count": 5,
   "metadata": {},
   "outputs": [
    {
     "name": "stdout",
     "output_type": "stream",
     "text": [
      "Building a tree via:\n",
      "\tiqtree -ninit 2 -n 2 -me 0.05 -nt 1 -s results/mask_aligned-delim.fasta -m GTR  > results/mask_aligned-delim.iqtree.log\n",
      "\tNguyen et al: IQ-TREE: A fast and effective stochastic algorithm for estimating maximum likelihood phylogenies.\n",
      "\tMol. Biol. Evol., 32:268-274. https://doi.org/10.1093/molbev/msu300\n",
      "\n",
      "\n",
      "Building original tree took 23.73842763900757 seconds\n"
     ]
    }
   ],
   "source": [
    "! augur tree \\\n",
    "  --alignment results/mask_aligned.fasta \\\n",
    "  --output results/tree_raw.nwk"
   ]
  },
  {
   "cell_type": "code",
   "execution_count": 6,
   "metadata": {},
   "outputs": [
    {
     "name": "stdout",
     "output_type": "stream",
     "text": [
      "\n",
      "5.76\tTreeTime.reroot: with method or node: ['Wuhan-Hu-1/2019',\n",
      "    \t'Wuhan/WH01/2019']\n",
      "\n",
      "6.08\tTreeTime.reroot: with method or node: ['Wuhan-Hu-1/2019',\n",
      "    \t'Wuhan/WH01/2019']\n",
      "pruning leaf  MN908947\n",
      "pruning leaf  Wales/PHWC-2B0F0/2020\n",
      "\n",
      "6.41\tWARNING: Previous versions of TreeTime (<0.7.0) RECONSTRUCTED sequences of\n",
      "    \ttips at positions with AMBIGUOUS bases. This resulted in unexpected\n",
      "    \tbehavior is some cases and is no longer done by default. If you want to\n",
      "    \treplace those ambiguous sites with their most likely state, rerun with\n",
      "    \t`reconstruct_tip_states=True` or `--reconstruct-tip-states`.\n",
      "\n",
      "11.17\tTreeTime.reroot: with method or node: ['Wuhan-Hu-1/2019',\n",
      "     \t'Wuhan/WH01/2019']\n",
      "\n",
      "14.38\t###TreeTime.run: INITIAL ROUND\n",
      "\n",
      "24.93\tTreeTime.reroot: with method or node: ['Wuhan-Hu-1/2019',\n",
      "     \t'Wuhan/WH01/2019']\n",
      "\n",
      "25.39\t###TreeTime.run: rerunning timetree after rerooting\n",
      "\n",
      "36.97\t###TreeTime.run: ITERATION 1 out of 2 iterations\n",
      "\n",
      "71.13\t###TreeTime.run: ITERATION 2 out of 2 iterations\n",
      "\n",
      "Inferred a time resolved phylogeny using TreeTime:\n",
      "\tSagulenko et al. TreeTime: Maximum-likelihood phylodynamic analysis\n",
      "\tVirus Evolution, vol 4, https://academic.oup.com/ve/article/4/1/vex042/4794731\n",
      "\n",
      "updated tree written to results/tree.nwk\n",
      "node attributes written to results/branch_lengths.json\n"
     ]
    }
   ],
   "source": [
    "! augur refine \\\n",
    "--root Wuhan-Hu-1/2019 Wuhan/WH01/2019 \\\n",
    "--tree results/tree_raw.nwk \\\n",
    "--alignment results/mask_aligned.fasta \\\n",
    "--metadata data/metadata.tsv \\\n",
    "--output-tree results/tree.nwk \\\n",
    "--output-node-data results/branch_lengths.json \\\n",
    "--coalescent skyline \\\n",
    "--clock-rate 0.0008 \\\n",
    "--clock-std-dev 0.0004 \\\n",
    "--date-inference marginal \\\n",
    "--clock-filter-iqd 4 \\\n",
    "--timetree"
   ]
  },
  {
   "cell_type": "code",
   "execution_count": 7,
   "metadata": {},
   "outputs": [
    {
     "name": "stdout",
     "output_type": "stream",
     "text": [
      "Assigned discrete traits to 397 out of 397 taxa.\n",
      "\n",
      "NOTE: previous versions (<0.7.0) of this command made a 'short-branch\n",
      "length assumption. TreeTime now optimizes the overall rate numerically\n",
      "and thus allows for long branches along which multiple changes\n",
      "accumulated. This is expected to affect estimates of the overall rate\n",
      "while leaving the relative rates mostly unchanged.\n",
      "Assigned discrete traits to 397 out of 397 taxa.\n",
      "\n",
      "NOTE: previous versions (<0.7.0) of this command made a 'short-branch\n",
      "length assumption. TreeTime now optimizes the overall rate numerically\n",
      "and thus allows for long branches along which multiple changes\n",
      "accumulated. This is expected to affect estimates of the overall rate\n",
      "while leaving the relative rates mostly unchanged.\n",
      "\n",
      "Inferred ancestral states of discrete character using TreeTime:\n",
      "\tSagulenko et al. TreeTime: Maximum-likelihood phylodynamic analysis\n",
      "\tVirus Evolution, vol 4, https://academic.oup.com/ve/article/4/1/vex042/4794731\n",
      "\n",
      "results written to results/traits.json\n"
     ]
    }
   ],
   "source": [
    "! augur traits \\\n",
    "  --tree results/tree.nwk \\\n",
    "  --metadata data/metadata.tsv \\\n",
    "  --output results/traits.json \\\n",
    "  --columns region country \\\n",
    "  --confidence \\\n",
    "  --sampling-bias-correction 2.5"
   ]
  },
  {
   "cell_type": "code",
   "execution_count": 8,
   "metadata": {},
   "outputs": [
    {
     "name": "stdout",
     "output_type": "stream",
     "text": [
      "\n",
      "Inferred ancestral sequence states using TreeTime:\n",
      "\tSagulenko et al. TreeTime: Maximum-likelihood phylodynamic analysis\n",
      "\tVirus Evolution, vol 4, https://academic.oup.com/ve/article/4/1/vex042/4794731\n",
      "\n",
      "ancestral mutations written to results/nt_muts.json\n"
     ]
    }
   ],
   "source": [
    "! augur ancestral \\\n",
    "  --tree results/tree.nwk \\\n",
    "  --alignment results/aligned.fasta \\\n",
    "  --output-node-data results/nt_muts.json \\\n",
    "  --inference joint "
   ]
  },
  {
   "cell_type": "code",
   "execution_count": 9,
   "metadata": {},
   "outputs": [
    {
     "name": "stdout",
     "output_type": "stream",
     "text": [
      "Read in 15 features from reference sequence file\n",
      "amino acid mutations written to results/aa_muts.json\n"
     ]
    }
   ],
   "source": [
    "! augur translate \\\n",
    "  --tree results/tree.nwk \\\n",
    "  --ancestral-sequences results/nt_muts.json \\\n",
    "  --reference-sequence config/reference.gb \\\n",
    "  --output results/aa_muts.json"
   ]
  },
  {
   "cell_type": "code",
   "execution_count": 10,
   "metadata": {},
   "outputs": [
    {
     "name": "stdout",
     "output_type": "stream",
     "text": [
      "usage: augur clades [-h] [--tree TREE] [--mutations MUTATIONS [MUTATIONS ...]]\n",
      "                    [--reference REFERENCE [REFERENCE ...]] [--clades CLADES]\n",
      "                    [--output-node-data OUTPUT_NODE_DATA]\n",
      "\n",
      "Assign clades to nodes in a tree based on amino-acid or nucleotide signatures.\n",
      "\n",
      "optional arguments:\n",
      "  -h, --help            show this help message and exit\n",
      "  --tree TREE           prebuilt Newick -- no tree will be built if provided\n",
      "                        (default: None)\n",
      "  --mutations MUTATIONS [MUTATIONS ...]\n",
      "                        JSON(s) containing ancestral and tip nucleotide and/or\n",
      "                        amino-acid mutations (default: None)\n",
      "  --reference REFERENCE [REFERENCE ...]\n",
      "                        fasta files containing reference and tip nucleotide\n",
      "                        and/or amino-acid sequences (default: None)\n",
      "  --clades CLADES       TSV file containing clade definitions by amino-acid\n",
      "                        (default: None)\n",
      "  --output-node-data OUTPUT_NODE_DATA\n",
      "                        name of JSON file to save clade assignments to\n",
      "                        (default: None)\n"
     ]
    }
   ],
   "source": [
    "! augur clades -h"
   ]
  },
  {
   "cell_type": "code",
   "execution_count": 11,
   "metadata": {},
   "outputs": [
    {
     "name": "stdout",
     "output_type": "stream",
     "text": [
      "Validating schema of 'results/aa_muts.json'...\n",
      "clades written to results/clades.json\n"
     ]
    }
   ],
   "source": [
    "! augur clades \\\n",
    "--tree results/tree.nwk \\\n",
    "--mutations results/aa_muts.json results/nt_muts.json\\\n",
    "--clades config/clades.tsv \\\n",
    "--output-node-data results/clades.json"
   ]
  },
  {
   "cell_type": "code",
   "execution_count": 12,
   "metadata": {},
   "outputs": [
    {
     "name": "stdout",
     "output_type": "stream",
     "text": [
      "Validating schema of 'results/aa_muts.json'...\n",
      "Validating config file config/auspice_config.json against the JSON schema\n",
      "Validating schema of 'config/auspice_config.json'...\n",
      "WARNING: You asked for a color-by for trait 'recency', but it has no values on the tree. It has been ignored.\n",
      "\n",
      "WARNING: These values for trait region were not specified in your provided color scale: asia. Auspice will create colors for them.\n",
      "\n",
      "Validating produced JSON\n",
      "Validating schema of 'auspice/ncov2019.json'...\n",
      "Validating that the JSON is internally consistent...\n",
      "\tWARNING:  The filter \"recency\" does not appear as a property on any tree nodes.\n",
      "Validation of 'auspice/ncov2019.json' succeeded, but there were warnings you may want to resolve.\n",
      "\n"
     ]
    }
   ],
   "source": [
    "! augur export v2 \\\n",
    "  --tree results/tree.nwk \\\n",
    "  --metadata data/metadata.tsv \\\n",
    "  --node-data results/branch_lengths.json \\\n",
    "              results/traits.json \\\n",
    "              results/nt_muts.json \\\n",
    "              results/aa_muts.json \\\n",
    "              results/clades.json \\\n",
    "  --colors config/color_schemes.tsv \\\n",
    "  --lat-longs config/lat_longs.tsv \\\n",
    "  --auspice-config config/auspice_config.json \\\n",
    "  --output auspice/ncov2019.json"
   ]
  },
  {
   "cell_type": "markdown",
   "metadata": {},
   "source": [
    "## Hasil Analisis"
   ]
  },
  {
   "cell_type": "code",
   "execution_count": 14,
   "metadata": {},
   "outputs": [
    {
     "name": "stdout",
     "output_type": "stream",
     "text": [
      "\u001b[94m\u001b[39m\n",
      "\u001b[94m\u001b[39m\n",
      "\u001b[94m---------------------------------------------------\u001b[39m\n",
      "\u001b[94mAuspice server now running at \u001b[39m\u001b[94m\u001b[4m\u001b[1mhttp://localhost:4000\u001b[22m\u001b[24m\u001b[39m\n",
      "\u001b[94mServing auspice version 2.15.0\u001b[39m\n",
      "\u001b[94mLooking for datasets in /home/matin_nuhamunada/ncov2019_ugm/nextstrain-ncov2019/auspice\u001b[39m\n",
      "\u001b[94mLooking for narratives in /home/matin_nuhamunada/ncov2019_ugm/nextstrain-ncov2019\u001b[39m\n",
      "\u001b[94m---------------------------------------------------\u001b[39m\n",
      "\u001b[94m\u001b[39m\n",
      "\u001b[94m\u001b[39m\n",
      "\u001b[94mGET AVAILABLE returning locally available datasets & narratives\u001b[39m\n",
      "\u001b[94mGET DATASET query received: prefix=/ncov2019\u001b[39m\n",
      "\u001b[94mGET AVAILABLE returning locally available datasets & narratives\u001b[39m\n",
      "\u001b[94mGET AVAILABLE returning locally available datasets & narratives\u001b[39m\n",
      "\u001b[94mGET DATASET query received: prefix=/ncov2019\u001b[39m\n",
      "\u001b[94mGET AVAILABLE returning locally available datasets & narratives\u001b[39m\n",
      "^C\n"
     ]
    }
   ],
   "source": [
    "! auspice view --datasetDir auspice"
   ]
  },
  {
   "cell_type": "markdown",
   "metadata": {},
   "source": [
    "Hasil analisis dari Auspice dapat diakses did http://localhost:4000\n",
    "\n",
    "## Next\n",
    "[Koleksi spike gene per clade](03_clade_s_gene_analysis.ipynb)  \n",
    "        "
   ]
  }
 ],
 "metadata": {
  "kernelspec": {
   "display_name": "Python 3",
   "language": "python",
   "name": "python3"
  },
  "language_info": {
   "codemirror_mode": {
    "name": "ipython",
    "version": 3
   },
   "file_extension": ".py",
   "mimetype": "text/x-python",
   "name": "python",
   "nbconvert_exporter": "python",
   "pygments_lexer": "ipython3",
   "version": "3.6.10"
  }
 },
 "nbformat": 4,
 "nbformat_minor": 4
}
