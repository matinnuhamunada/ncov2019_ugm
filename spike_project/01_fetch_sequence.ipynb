{
 "cells": [
  {
   "cell_type": "code",
   "execution_count": 5,
   "metadata": {},
   "outputs": [],
   "source": [
    "# Load Library\n",
    "from pandas import DataFrame\n",
    "import pandas as pd\n",
    "import numpy as np\n",
    "from Bio import Entrez \n",
    "import pycurl\n",
    "import matplotlib.pyplot as plt\n",
    "import os, sys\n",
    "from tqdm import tqdm_notebook"
   ]
  },
  {
   "cell_type": "code",
   "execution_count": 8,
   "metadata": {},
   "outputs": [
    {
     "data": {
      "text/html": [
       "<div>\n",
       "<style scoped>\n",
       "    .dataframe tbody tr th:only-of-type {\n",
       "        vertical-align: middle;\n",
       "    }\n",
       "\n",
       "    .dataframe tbody tr th {\n",
       "        vertical-align: top;\n",
       "    }\n",
       "\n",
       "    .dataframe thead th {\n",
       "        text-align: right;\n",
       "    }\n",
       "</style>\n",
       "<table border=\"1\" class=\"dataframe\">\n",
       "  <thead>\n",
       "    <tr style=\"text-align: right;\">\n",
       "      <th></th>\n",
       "      <th>#Organism Name</th>\n",
       "      <th>Organism Groups</th>\n",
       "      <th>BioSample</th>\n",
       "      <th>BioProject</th>\n",
       "      <th>Assembly</th>\n",
       "      <th>Level</th>\n",
       "      <th>Size(Mb)</th>\n",
       "      <th>GC%</th>\n",
       "      <th>Replicons</th>\n",
       "      <th>Host</th>\n",
       "      <th>CDS</th>\n",
       "      <th>Neighbors</th>\n",
       "      <th>Release Date</th>\n",
       "      <th>GenBank FTP</th>\n",
       "      <th>RefSeq FTP</th>\n",
       "      <th>Replicons.1</th>\n",
       "    </tr>\n",
       "  </thead>\n",
       "  <tbody>\n",
       "    <tr>\n",
       "      <th>0</th>\n",
       "      <td>Severe acute respiratory syndrome coronavirus 2</td>\n",
       "      <td>Viruses;Other;Coronaviridae</td>\n",
       "      <td>NaN</td>\n",
       "      <td>NaN</td>\n",
       "      <td>GCA_009858895.3</td>\n",
       "      <td>Complete</td>\n",
       "      <td>0.029903</td>\n",
       "      <td>38.0</td>\n",
       "      <td>NC_045512.2/MN908947.3</td>\n",
       "      <td>human,vertebrates</td>\n",
       "      <td>12</td>\n",
       "      <td>2284.0</td>\n",
       "      <td>2020-01-12T00:00:00Z</td>\n",
       "      <td>ftp://ftp.ncbi.nlm.nih.gov/genomes/all/GCA/009...</td>\n",
       "      <td>ftp://ftp.ncbi.nlm.nih.gov/genomes/all/GCF/009...</td>\n",
       "      <td>NC_045512.2/MN908947.3</td>\n",
       "    </tr>\n",
       "  </tbody>\n",
       "</table>\n",
       "</div>"
      ],
      "text/plain": [
       "                                    #Organism Name  \\\n",
       "0  Severe acute respiratory syndrome coronavirus 2   \n",
       "\n",
       "               Organism Groups  BioSample BioProject         Assembly  \\\n",
       "0  Viruses;Other;Coronaviridae        NaN        NaN  GCA_009858895.3   \n",
       "\n",
       "      Level  Size(Mb)   GC%               Replicons               Host  CDS  \\\n",
       "0  Complete  0.029903  38.0  NC_045512.2/MN908947.3  human,vertebrates   12   \n",
       "\n",
       "   Neighbors          Release Date  \\\n",
       "0     2284.0  2020-01-12T00:00:00Z   \n",
       "\n",
       "                                         GenBank FTP  \\\n",
       "0  ftp://ftp.ncbi.nlm.nih.gov/genomes/all/GCA/009...   \n",
       "\n",
       "                                          RefSeq FTP             Replicons.1  \n",
       "0  ftp://ftp.ncbi.nlm.nih.gov/genomes/all/GCF/009...  NC_045512.2/MN908947.3  "
      ]
     },
     "execution_count": 8,
     "metadata": {},
     "output_type": "execute_result"
    }
   ],
   "source": [
    "df = pd.read_csv(\"dataset/ncov2019_ncbi08052020.csv\")\n",
    "df.head(1)"
   ]
  },
  {
   "cell_type": "code",
   "execution_count": 10,
   "metadata": {},
   "outputs": [
    {
     "ename": "NotXMLError",
     "evalue": "Failed to parse the XML data (syntax error: line 1, column 0). Please make sure that the input data are in XML format.",
     "output_type": "error",
     "traceback": [
      "\u001b[0;31m---------------------------------------------------------------------------\u001b[0m",
      "\u001b[0;31mNotXMLError\u001b[0m                               Traceback (most recent call last)",
      "\u001b[0;32m<ipython-input-10-9f3b94e7d086>\u001b[0m in \u001b[0;36m<module>\u001b[0;34m\u001b[0m\n\u001b[1;32m      2\u001b[0m \u001b[0mEntrez\u001b[0m\u001b[0;34m.\u001b[0m\u001b[0memail\u001b[0m \u001b[0;34m=\u001b[0m \u001b[0;34m\"matin_nuhamunada@ugm.ac.id\"\u001b[0m\u001b[0;34m\u001b[0m\u001b[0;34m\u001b[0m\u001b[0m\n\u001b[1;32m      3\u001b[0m \u001b[0mhandle\u001b[0m \u001b[0;34m=\u001b[0m \u001b[0mEntrez\u001b[0m\u001b[0;34m.\u001b[0m\u001b[0mefetch\u001b[0m\u001b[0;34m(\u001b[0m\u001b[0mdb\u001b[0m\u001b[0;34m=\u001b[0m\u001b[0;34m\"nucleotide\"\u001b[0m\u001b[0;34m,\u001b[0m \u001b[0mid\u001b[0m\u001b[0;34m=\u001b[0m\u001b[0;34m\"NC_045512.2\"\u001b[0m\u001b[0;34m)\u001b[0m\u001b[0;34m\u001b[0m\u001b[0;34m\u001b[0m\u001b[0m\n\u001b[0;32m----> 4\u001b[0;31m \u001b[0mrecord\u001b[0m \u001b[0;34m=\u001b[0m \u001b[0mEntrez\u001b[0m\u001b[0;34m.\u001b[0m\u001b[0mread\u001b[0m\u001b[0;34m(\u001b[0m\u001b[0mhandle\u001b[0m\u001b[0;34m)\u001b[0m\u001b[0;34m\u001b[0m\u001b[0;34m\u001b[0m\u001b[0m\n\u001b[0m",
      "\u001b[0;32m~/miniconda3/envs/ncov2019/lib/python3.8/site-packages/Bio/Entrez/__init__.py\u001b[0m in \u001b[0;36mread\u001b[0;34m(handle, validate, escape)\u001b[0m\n\u001b[1;32m    485\u001b[0m \u001b[0;34m\u001b[0m\u001b[0m\n\u001b[1;32m    486\u001b[0m     \u001b[0mhandler\u001b[0m \u001b[0;34m=\u001b[0m \u001b[0mDataHandler\u001b[0m\u001b[0;34m(\u001b[0m\u001b[0mvalidate\u001b[0m\u001b[0;34m,\u001b[0m \u001b[0mescape\u001b[0m\u001b[0;34m)\u001b[0m\u001b[0;34m\u001b[0m\u001b[0;34m\u001b[0m\u001b[0m\n\u001b[0;32m--> 487\u001b[0;31m     \u001b[0mrecord\u001b[0m \u001b[0;34m=\u001b[0m \u001b[0mhandler\u001b[0m\u001b[0;34m.\u001b[0m\u001b[0mread\u001b[0m\u001b[0;34m(\u001b[0m\u001b[0mhandle\u001b[0m\u001b[0;34m)\u001b[0m\u001b[0;34m\u001b[0m\u001b[0;34m\u001b[0m\u001b[0m\n\u001b[0m\u001b[1;32m    488\u001b[0m     \u001b[0;32mreturn\u001b[0m \u001b[0mrecord\u001b[0m\u001b[0;34m\u001b[0m\u001b[0;34m\u001b[0m\u001b[0m\n\u001b[1;32m    489\u001b[0m \u001b[0;34m\u001b[0m\u001b[0m\n",
      "\u001b[0;32m~/miniconda3/envs/ncov2019/lib/python3.8/site-packages/Bio/Entrez/Parser.py\u001b[0m in \u001b[0;36mread\u001b[0;34m(self, handle)\u001b[0m\n\u001b[1;32m    353\u001b[0m                 \u001b[0;31m# We have not seen the initial <!xml declaration, so probably\u001b[0m\u001b[0;34m\u001b[0m\u001b[0;34m\u001b[0m\u001b[0;34m\u001b[0m\u001b[0m\n\u001b[1;32m    354\u001b[0m                 \u001b[0;31m# the input data is not in XML format.\u001b[0m\u001b[0;34m\u001b[0m\u001b[0;34m\u001b[0m\u001b[0;34m\u001b[0m\u001b[0m\n\u001b[0;32m--> 355\u001b[0;31m                 \u001b[0m_raise_from\u001b[0m\u001b[0;34m(\u001b[0m\u001b[0mNotXMLError\u001b[0m\u001b[0;34m(\u001b[0m\u001b[0me\u001b[0m\u001b[0;34m)\u001b[0m\u001b[0;34m,\u001b[0m \u001b[0;32mNone\u001b[0m\u001b[0;34m)\u001b[0m\u001b[0;34m\u001b[0m\u001b[0;34m\u001b[0m\u001b[0m\n\u001b[0m\u001b[1;32m    356\u001b[0m         \u001b[0;32mtry\u001b[0m\u001b[0;34m:\u001b[0m\u001b[0;34m\u001b[0m\u001b[0;34m\u001b[0m\u001b[0m\n\u001b[1;32m    357\u001b[0m             \u001b[0;32mreturn\u001b[0m \u001b[0mself\u001b[0m\u001b[0;34m.\u001b[0m\u001b[0mrecord\u001b[0m\u001b[0;34m\u001b[0m\u001b[0;34m\u001b[0m\u001b[0m\n",
      "\u001b[0;32m~/miniconda3/envs/ncov2019/lib/python3.8/site-packages/Bio/_py3k/__init__.py\u001b[0m in \u001b[0;36mraise_from\u001b[0;34m(value, from_value)\u001b[0m\n",
      "\u001b[0;31mNotXMLError\u001b[0m: Failed to parse the XML data (syntax error: line 1, column 0). Please make sure that the input data are in XML format."
     ]
    }
   ],
   "source": [
    "#Email for NCBI\n",
    "Entrez.email = \"matin_nuhamunada@ugm.ac.id\"\n",
    "handle = Entrez.efetch(db=\"nucleotide\", id=\"NC_045512.2\")\n",
    "record = Entrez.read(handle)\n"
   ]
  },
  {
   "cell_type": "code",
   "execution_count": null,
   "metadata": {},
   "outputs": [],
   "source": []
  }
 ],
 "metadata": {
  "kernelspec": {
   "display_name": "Python 3",
   "language": "python",
   "name": "python3"
  },
  "language_info": {
   "codemirror_mode": {
    "name": "ipython",
    "version": 3
   },
   "file_extension": ".py",
   "mimetype": "text/x-python",
   "name": "python",
   "nbconvert_exporter": "python",
   "pygments_lexer": "ipython3",
   "version": "3.8.2"
  }
 },
 "nbformat": 4,
 "nbformat_minor": 4
}
