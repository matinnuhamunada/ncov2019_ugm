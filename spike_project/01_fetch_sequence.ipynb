{
 "cells": [
  {
   "cell_type": "code",
   "execution_count": 39,
   "metadata": {},
   "outputs": [],
   "source": [
    "# Load Library\n",
    "from pandas import DataFrame\n",
    "import pandas as pd\n",
    "from tqdm.notebook import tqdm\n",
    "\n",
    "from Bio import Entrez \n",
    "from Bio import SeqIO\n",
    "from Bio.Seq import Seq\n",
    "from Bio.SeqRecord import SeqRecord\n",
    "from Bio.Alphabet import IUPAC"
   ]
  },
  {
   "cell_type": "code",
   "execution_count": 40,
   "metadata": {},
   "outputs": [],
   "source": [
    "try:\n",
    "    df = pd.read_csv(\"output/ncov2019_ncbi_spike.csv\", index_col=0)\n",
    "except:\n",
    "    df = pd.read_csv(\"dataset/ncov2019_ncbi08052020.csv\")\n",
    "    df[\"s-gene_location\"] = \"\"\n",
    "    df[\"gene_length\"] = \"\"\n",
    "    df[\"protein_id\"] = \"\"\n",
    "    df[\"protein_length\"] = \"\""
   ]
  },
  {
   "cell_type": "code",
   "execution_count": 41,
   "metadata": {},
   "outputs": [
    {
     "data": {
      "application/vnd.jupyter.widget-view+json": {
       "model_id": "8957de39ad36431e82e05c12722460e8",
       "version_major": 2,
       "version_minor": 0
      },
      "text/plain": [
       "HBox(children=(FloatProgress(value=0.0, max=2434.0), HTML(value='')))"
      ]
     },
     "metadata": {},
     "output_type": "display_data"
    },
    {
     "name": "stdout",
     "output_type": "stream",
     "text": [
      "\n"
     ]
    }
   ],
   "source": [
    "#Email for NCBI\n",
    "Entrez.email = \"matin_nuhamunada@ugm.ac.id\"\n",
    "\n",
    "for i in tqdm(df.index):\n",
    "    if df.loc[i, \"s-gene_location\"] == '':\n",
    "        handle = Entrez.efetch(db=\"nucleotide\", id=df.Accession[i], rettype=\"gb\", retmode=\"text\")\n",
    "        seq_record = SeqIO.read(handle, \"genbank\")\n",
    "        handle.close()\n",
    "        #print(seq_record.id)\n",
    "        for feature in seq_record.features:\n",
    "            try:\n",
    "                if feature.type == 'CDS':\n",
    "                    if feature.qualifiers['gene'][0] == 'S':\n",
    "                        start = feature.location.start.position\n",
    "                        end = feature.location.end.position\n",
    "                        protein_id = str(feature.qualifiers['protein_id'][0])\n",
    "                \n",
    "                        df.loc[i, \"s-gene_location\"] = str(feature.location)\n",
    "                        df.loc[i, \"gene_length\"] = len(seq_record.seq[start:end])\n",
    "                        df.loc[i, \"protein_id\"] = protein_id\n",
    "                        df.loc[i, \"protein_length\"] = len(feature.qualifiers['translation'][0])\n",
    "                \n",
    "                    #write spike gene fasta\n",
    "                        record = SeqRecord(Seq(\"\"))\n",
    "                        record.seq = seq_record.seq[start:end]\n",
    "                        record.id = seq_record.id\n",
    "                        with open(\"output/gene/s_gene_\"+str(i)+\"_\"+record.id+\".fasta\", \"w\") as output_handle:\n",
    "                            SeqIO.write(record, output_handle, \"fasta\")\n",
    "                \n",
    "                    #write spike protein fasta\n",
    "                        protein = feature.qualifiers['translation'][0]\n",
    "                        protein_record = SeqRecord(Seq(protein, IUPAC.protein), id= protein_id, description=feature.qualifiers['product'][0])\n",
    "                        with open(\"output/protein/spike_\"+str(i)+\"_\"+protein_id+\".fasta\", \"w\") as output_handle:\n",
    "                            SeqIO.write(protein_record, output_handle, \"fasta\")\n",
    "            except:\n",
    "                print(df.loc[i, \"Accession\"]+' error')\n",
    "#df.to_csv('output/ncov2019_ncbi_spike.csv')"
   ]
  },
  {
   "cell_type": "code",
   "execution_count": 115,
   "metadata": {},
   "outputs": [
    {
     "data": {
      "text/html": [
       "<div>\n",
       "<style scoped>\n",
       "    .dataframe tbody tr th:only-of-type {\n",
       "        vertical-align: middle;\n",
       "    }\n",
       "\n",
       "    .dataframe tbody tr th {\n",
       "        vertical-align: top;\n",
       "    }\n",
       "\n",
       "    .dataframe thead th {\n",
       "        text-align: right;\n",
       "    }\n",
       "</style>\n",
       "<table border=\"1\" class=\"dataframe\">\n",
       "  <thead>\n",
       "    <tr style=\"text-align: right;\">\n",
       "      <th></th>\n",
       "      <th>Accession</th>\n",
       "      <th>Geo_Location</th>\n",
       "      <th>s-gene_location</th>\n",
       "      <th>gene_length</th>\n",
       "      <th>protein_id</th>\n",
       "      <th>protein_length</th>\n",
       "    </tr>\n",
       "  </thead>\n",
       "  <tbody>\n",
       "    <tr>\n",
       "      <th>0</th>\n",
       "      <td>NC_045512</td>\n",
       "      <td>China</td>\n",
       "      <td>[21562:25384](+)</td>\n",
       "      <td>3822.0</td>\n",
       "      <td>YP_009724390.1</td>\n",
       "      <td>1273.0</td>\n",
       "    </tr>\n",
       "    <tr>\n",
       "      <th>1</th>\n",
       "      <td>MT444148</td>\n",
       "      <td>USA: CA</td>\n",
       "      <td>[21549:25371](+)</td>\n",
       "      <td>3822.0</td>\n",
       "      <td>QJQ82624.1</td>\n",
       "      <td>1273.0</td>\n",
       "    </tr>\n",
       "    <tr>\n",
       "      <th>2</th>\n",
       "      <td>MT444515</td>\n",
       "      <td>USA</td>\n",
       "      <td>[21530:25352](+)</td>\n",
       "      <td>3822.0</td>\n",
       "      <td>QJQ82636.1</td>\n",
       "      <td>1273.0</td>\n",
       "    </tr>\n",
       "    <tr>\n",
       "      <th>3</th>\n",
       "      <td>MT444516</td>\n",
       "      <td>USA</td>\n",
       "      <td>[21512:25334](+)</td>\n",
       "      <td>3822.0</td>\n",
       "      <td>QJQ82648.1</td>\n",
       "      <td>1273.0</td>\n",
       "    </tr>\n",
       "    <tr>\n",
       "      <th>4</th>\n",
       "      <td>MT444517</td>\n",
       "      <td>USA</td>\n",
       "      <td>[21523:25345](+)</td>\n",
       "      <td>3822.0</td>\n",
       "      <td>QJQ82660.1</td>\n",
       "      <td>1273.0</td>\n",
       "    </tr>\n",
       "    <tr>\n",
       "      <th>...</th>\n",
       "      <td>...</td>\n",
       "      <td>...</td>\n",
       "      <td>...</td>\n",
       "      <td>...</td>\n",
       "      <td>...</td>\n",
       "      <td>...</td>\n",
       "    </tr>\n",
       "    <tr>\n",
       "      <th>2427</th>\n",
       "      <td>MN975266</td>\n",
       "      <td>China</td>\n",
       "      <td>[&lt;0:&gt;107](+)</td>\n",
       "      <td>107.0</td>\n",
       "      <td>QHN73822.1</td>\n",
       "      <td>35.0</td>\n",
       "    </tr>\n",
       "    <tr>\n",
       "      <th>2428</th>\n",
       "      <td>MN975267</td>\n",
       "      <td>China</td>\n",
       "      <td>[&lt;0:&gt;107](+)</td>\n",
       "      <td>107.0</td>\n",
       "      <td>QHN73823.1</td>\n",
       "      <td>35.0</td>\n",
       "    </tr>\n",
       "    <tr>\n",
       "      <th>2429</th>\n",
       "      <td>MN975268</td>\n",
       "      <td>China</td>\n",
       "      <td>[&lt;0:&gt;107](+)</td>\n",
       "      <td>107.0</td>\n",
       "      <td>QHN73824.1</td>\n",
       "      <td>35.0</td>\n",
       "    </tr>\n",
       "    <tr>\n",
       "      <th>2430</th>\n",
       "      <td>MN985325</td>\n",
       "      <td>USA</td>\n",
       "      <td>[21562:25384](+)</td>\n",
       "      <td>3822.0</td>\n",
       "      <td>QHO60594.1</td>\n",
       "      <td>1273.0</td>\n",
       "    </tr>\n",
       "    <tr>\n",
       "      <th>2433</th>\n",
       "      <td>MN908947</td>\n",
       "      <td>China</td>\n",
       "      <td>[21562:25384](+)</td>\n",
       "      <td>3822.0</td>\n",
       "      <td>QHD43416.1</td>\n",
       "      <td>1273.0</td>\n",
       "    </tr>\n",
       "  </tbody>\n",
       "</table>\n",
       "<p>2312 rows × 6 columns</p>\n",
       "</div>"
      ],
      "text/plain": [
       "      Accession Geo_Location   s-gene_location  gene_length      protein_id  \\\n",
       "0     NC_045512        China  [21562:25384](+)       3822.0  YP_009724390.1   \n",
       "1      MT444148      USA: CA  [21549:25371](+)       3822.0      QJQ82624.1   \n",
       "2      MT444515          USA  [21530:25352](+)       3822.0      QJQ82636.1   \n",
       "3      MT444516          USA  [21512:25334](+)       3822.0      QJQ82648.1   \n",
       "4      MT444517          USA  [21523:25345](+)       3822.0      QJQ82660.1   \n",
       "...         ...          ...               ...          ...             ...   \n",
       "2427   MN975266        China      [<0:>107](+)        107.0      QHN73822.1   \n",
       "2428   MN975267        China      [<0:>107](+)        107.0      QHN73823.1   \n",
       "2429   MN975268        China      [<0:>107](+)        107.0      QHN73824.1   \n",
       "2430   MN985325          USA  [21562:25384](+)       3822.0      QHO60594.1   \n",
       "2433   MN908947        China  [21562:25384](+)       3822.0      QHD43416.1   \n",
       "\n",
       "      protein_length  \n",
       "0             1273.0  \n",
       "1             1273.0  \n",
       "2             1273.0  \n",
       "3             1273.0  \n",
       "4             1273.0  \n",
       "...              ...  \n",
       "2427            35.0  \n",
       "2428            35.0  \n",
       "2429            35.0  \n",
       "2430          1273.0  \n",
       "2433          1273.0  \n",
       "\n",
       "[2312 rows x 6 columns]"
      ]
     },
     "execution_count": 115,
     "metadata": {},
     "output_type": "execute_result"
    }
   ],
   "source": [
    "df_simple = df[['Accession','Geo_Location', 's-gene_location','gene_length', 'protein_id', 'protein_length']]\n",
    "df_simple = df_simple.dropna()\n",
    "df_simple"
   ]
  },
  {
   "cell_type": "code",
   "execution_count": 116,
   "metadata": {},
   "outputs": [
    {
     "name": "stdout",
     "output_type": "stream",
     "text": [
      "gene length\n",
      "3822.0    2283\n",
      "107.0        7\n",
      "3819.0       3\n",
      "3718.0       2\n",
      "491.0        2\n",
      "493.0        1\n",
      "3691.0       1\n",
      "3777.0       1\n",
      "3386.0       1\n",
      "3395.0       1\n",
      "3786.0       1\n",
      "3807.0       1\n",
      "3702.0       1\n",
      "3719.0       1\n",
      "3768.0       1\n",
      "3785.0       1\n",
      "3818.0       1\n",
      "157.0        1\n",
      "158.0        1\n",
      "3696.0       1\n",
      "Name: gene_length, dtype: int64\n",
      "protein length\n",
      "1273.0    2283\n",
      "35.0         7\n",
      "1272.0       4\n",
      "1238.0       3\n",
      "163.0        3\n",
      "52.0         2\n",
      "1230.0       1\n",
      "1231.0       1\n",
      "1269.0       1\n",
      "1260.0       1\n",
      "1255.0       1\n",
      "1262.0       1\n",
      "1233.0       1\n",
      "1259.0       1\n",
      "1130.0       1\n",
      "1127.0       1\n",
      "Name: protein_length, dtype: int64\n"
     ]
    }
   ],
   "source": [
    "print('gene length')\n",
    "print(df_simple['gene_length'].value_counts())\n",
    "\n",
    "print('protein length')\n",
    "print(df_simple['protein_length'].value_counts())\n",
    "\n",
    "\n",
    "df_simple = df_simple[df_simple['gene_length'] == 3822.0]"
   ]
  },
  {
   "cell_type": "code",
   "execution_count": 117,
   "metadata": {},
   "outputs": [
    {
     "data": {
      "text/plain": [
       "array(['China', 'USA: CA', 'USA', 'China: Guangdong, Guangzhou',\n",
       "       'USA: MARINGOUIN, LA', 'USA: KENNER, LA', 'USA: KILLONA, LA',\n",
       "       'USA: SAINT ROSE, LA', 'USA: New Orleans, LA', 'USA: LOCKPORT, LA',\n",
       "       'USA: NEW ORLEANS, LA', 'USA: LULING, LA', 'USA: RACELAND, LA',\n",
       "       'USA: GHEENS, LA', 'USA: THIBODAUX,LA', 'USA: Slidell, LA',\n",
       "       'USA: Lacombe, LA', 'USA: HOUMA, LA', 'USA: SLIDELL, LA',\n",
       "       'USA: SLIDELL LA', 'USA: DELACROIX, LA', 'Thailand', 'Iran',\n",
       "       'USA: MI', 'India', 'USA: NY', 'Serbia', 'India: Ahmedabad',\n",
       "       'India: Gandhinagar', 'India: Mansa', 'Hong Kong', 'Kazakhstan',\n",
       "       'USA: Wisconsin', 'USA: East Feliciana Parish, Louisiana',\n",
       "       'USA: FL', 'USA: VA', 'Puerto Rico', 'USA: Michigan',\n",
       "       'USA: Illinois', 'USA: WA', 'USA: CT', 'USA: ID', 'USA: OR',\n",
       "       'Germany: Dusseldorf', 'Netherlands: Milheeze', 'USA: New York',\n",
       "       'Taiwan', 'USA: NJ', 'Sri Lanka', 'Czech Republic', 'Malaysia',\n",
       "       'Japan', 'India: Rajkot', 'Spain', 'Brazil', 'USA: GA', 'USA: HI',\n",
       "       'USA: IN', 'USA: MD', 'USA: MN', 'USA: OH', 'USA: PA', 'USA: RI',\n",
       "       'USA: NV', 'USA: NC', 'USA: Maricopa County, Arizona', 'USA: UT',\n",
       "       'South Africa: KwaZulu-Natal', 'USA: AZ', 'USA: DC', 'USA: IA',\n",
       "       'USA: IL', 'USA: KS', 'USA: LA', 'USA: MA', 'USA: MO', 'USA: NE',\n",
       "       'USA: NH', 'USA: SC', 'Turkey', 'Greece', 'Italy', 'France',\n",
       "       'USA: North Carolina', 'South Korea', 'USA: TX',\n",
       "       'China: Anhui, Fuyang', 'China: Wuhan', 'China: Beijing', 'Israel',\n",
       "       'Pakistan: KPK', 'Peru', 'Colombia: Antioquia',\n",
       "       'USA: San Francisco, CA', 'China: Zhejiang, Hangzhou',\n",
       "       'Pakistan: Gilgit', 'Spain: Valencia', 'USA: CA, San Diego County',\n",
       "       'Viet Nam: Ho Chi Minh city', 'India: Kerala State',\n",
       "       'USA: Snohomish County, WA', 'China: Guangzhou', 'Sweden', 'Nepal',\n",
       "       'China: Yunnan', 'China: Hangzhou', 'USA: WI',\n",
       "       'China: Hubei, Wuhan', 'Finland', 'Australia: Victoria',\n",
       "       'China: Shenzhen'], dtype=object)"
      ]
     },
     "execution_count": 117,
     "metadata": {},
     "output_type": "execute_result"
    }
   ],
   "source": [
    "df_simple['Geo_Location'].unique()"
   ]
  },
  {
   "cell_type": "code",
   "execution_count": 118,
   "metadata": {},
   "outputs": [
    {
     "name": "stderr",
     "output_type": "stream",
     "text": [
      "/home/matin_nuhamunada/miniconda3/envs/ncov2019/lib/python3.8/site-packages/pandas/core/indexing.py:966: SettingWithCopyWarning: \n",
      "A value is trying to be set on a copy of a slice from a DataFrame.\n",
      "Try using .loc[row_indexer,col_indexer] = value instead\n",
      "\n",
      "See the caveats in the documentation: https://pandas.pydata.org/pandas-docs/stable/user_guide/indexing.html#returning-a-view-versus-a-copy\n",
      "  self.obj[item] = s\n"
     ]
    },
    {
     "data": {
      "text/plain": [
       "array(['China', 'USA', 'Thailand', 'Iran', 'India', 'Serbia', 'Hong Kong',\n",
       "       'Kazakhstan', 'Puerto Rico', 'Germany', 'Netherlands', 'Taiwan',\n",
       "       'Sri Lanka', 'Czech Republic', 'Malaysia', 'Japan', 'Spain',\n",
       "       'Brazil', 'South Africa', 'Turkey', 'Greece', 'Italy', 'France',\n",
       "       'South Korea', 'Israel', 'Pakistan', 'Peru', 'Colombia', 'Vietnam',\n",
       "       'Sweden', 'Nepal', 'Finland', 'Australia'], dtype=object)"
      ]
     },
     "execution_count": 118,
     "metadata": {},
     "output_type": "execute_result"
    }
   ],
   "source": [
    "df_simple.loc[df_simple['Geo_Location'].str.contains('USA'), 'Geo_Location'] = 'USA'\n",
    "df_simple.loc[df_simple['Geo_Location'].str.contains('China'), 'Geo_Location'] = 'China'\n",
    "df_simple.loc[df_simple['Geo_Location'].str.contains('India'), 'Geo_Location'] = 'India'\n",
    "df_simple.loc[df_simple['Geo_Location'].str.contains('Germany'), 'Geo_Location'] = 'Germany'\n",
    "df_simple.loc[df_simple['Geo_Location'].str.contains('Netherlands'), 'Geo_Location'] = 'Netherlands'\n",
    "df_simple.loc[df_simple['Geo_Location'].str.contains('Pakistan'), 'Geo_Location'] = 'Pakistan'\n",
    "df_simple.loc[df_simple['Geo_Location'].str.contains('South Africa'), 'Geo_Location'] = 'South Africa'\n",
    "df_simple.loc[df_simple['Geo_Location'].str.contains('Colombia'), 'Geo_Location'] = 'Colombia'\n",
    "df_simple.loc[df_simple['Geo_Location'].str.contains('Spain'), 'Geo_Location'] = 'Spain'\n",
    "df_simple.loc[df_simple['Geo_Location'].str.contains('Viet Nam'), 'Geo_Location'] = 'Vietnam'\n",
    "df_simple.loc[df_simple['Geo_Location'].str.contains('Australia'), 'Geo_Location'] = 'Australia'\n",
    "df_simple['Geo_Location'].unique()"
   ]
  },
  {
   "cell_type": "code",
   "execution_count": 119,
   "metadata": {},
   "outputs": [
    {
     "data": {
      "text/plain": [
       "USA               2031\n",
       "China               67\n",
       "India               28\n",
       "Thailand            23\n",
       "Taiwan              22\n",
       "Hong Kong           21\n",
       "Spain               21\n",
       "Puerto Rico         12\n",
       "Czech Republic       7\n",
       "Japan                5\n",
       "Greece               4\n",
       "South Korea          4\n",
       "Sri Lanka            4\n",
       "Malaysia             4\n",
       "Kazakhstan           4\n",
       "Iran                 3\n",
       "Pakistan             2\n",
       "Italy                2\n",
       "Brazil               2\n",
       "Vietnam              2\n",
       "Israel               2\n",
       "Serbia               2\n",
       "Nepal                1\n",
       "Colombia             1\n",
       "Sweden               1\n",
       "Turkey               1\n",
       "Netherlands          1\n",
       "Australia            1\n",
       "France               1\n",
       "Germany              1\n",
       "South Africa         1\n",
       "Peru                 1\n",
       "Finland              1\n",
       "Name: Geo_Location, dtype: int64"
      ]
     },
     "execution_count": 119,
     "metadata": {},
     "output_type": "execute_result"
    }
   ],
   "source": [
    "df_simple['Geo_Location'].value_counts()"
   ]
  },
  {
   "cell_type": "code",
   "execution_count": 113,
   "metadata": {},
   "outputs": [],
   "source": [
    "df_simple.to_csv('output/ncov2019_ncbi_spike_simple.csv')"
   ]
  },
  {
   "cell_type": "code",
   "execution_count": null,
   "metadata": {},
   "outputs": [],
   "source": []
  }
 ],
 "metadata": {
  "kernelspec": {
   "display_name": "Python 3",
   "language": "python",
   "name": "python3"
  },
  "language_info": {
   "codemirror_mode": {
    "name": "ipython",
    "version": 3
   },
   "file_extension": ".py",
   "mimetype": "text/x-python",
   "name": "python",
   "nbconvert_exporter": "python",
   "pygments_lexer": "ipython3",
   "version": "3.6.10"
  }
 },
 "nbformat": 4,
 "nbformat_minor": 4
}
